{
  "nbformat": 4,
  "nbformat_minor": 0,
  "metadata": {
    "colab": {
      "provenance": []
    },
    "kernelspec": {
      "name": "python3",
      "display_name": "Python 3"
    },
    "language_info": {
      "name": "python"
    }
  },
  "cells": [
    {
      "cell_type": "code",
      "execution_count": null,
      "metadata": {
        "id": "6p8ZApMSoQNR"
      },
      "outputs": [],
      "source": [
        "from geopy.geocoders import Nominatim\n",
        "import time\n",
        "import pandas as pd\n",
        "\n",
        "geolocator = Nominatim(user_agent=\"wildfire_alerts\")\n",
        "coord_cache = {}\n",
        "\n",
        "def get_location(address):\n",
        "    # 캐시 확인\n",
        "    if address in coord_cache:\n",
        "        return coord_cache[address]\n",
        "    try:\n",
        "        location = geolocator.geocode(address)\n",
        "        time.sleep(1)  # Rate limit\n",
        "        if location:\n",
        "            coords = pd.Series([location.latitude, location.longitude])\n",
        "        else:\n",
        "            coords = pd.Series([None, None])\n",
        "    except:\n",
        "        coords = pd.Series([None, None])\n",
        "\n",
        "    # 캐시에 저장\n",
        "    coord_cache[address] = coords\n",
        "    return coords\n",
        "# 최근 100건만 예시로 사용\n",
        "df_recent = df_sorted.head(500)\n",
        "\n",
        "# 유니크 주소만 추출\n",
        "df_recent['주소'] = df_recent.apply(lambda row: f\"대한민국 {row['시도명']} {row['시군구명']} {row['읍면동명']}\", axis=1)\n",
        "unique_addresses = df_recent[['주소']].drop_duplicates().reset_index(drop=True)\n",
        "\n",
        "# 유니크 주소에만 geocode 수행\n",
        "unique_addresses[['lat', 'lon']] = unique_addresses['주소'].apply(get_location)\n",
        "\n",
        "# 원본 데이터와 merge하여 lat/lon 붙이기\n",
        "df_recent = pd.merge(df_recent, unique_addresses, on='주소', how='left')\n",
        "\n",
        "import folium\n",
        "\n",
        "# 지도 중심 좌표 (대한민국 중앙)\n",
        "m = folium.Map(location=[36.5, 127.8], zoom_start=7)\n",
        "\n",
        "# 마커 추가\n",
        "for idx, row in df_recent.iterrows():\n",
        "    if pd.notnull(row['lat']) and pd.notnull(row['lon']):\n",
        "        # 위험도에 따른 색깔 설정\n",
        "        color = \"red\" if \"주의보\" in row[\"등급\"] else \"orange\"\n",
        "\n",
        "        # CircleMarker: 작고 예쁜 동그라미\n",
        "        folium.CircleMarker(\n",
        "            location=[row['lat'], row['lon']],\n",
        "            radius=5,               # 동그라미 크기\n",
        "            color=color,            # 테두리 색\n",
        "            fill=True,\n",
        "            fill_color=color,       # 내부 색\n",
        "            fill_opacity=0.7,\n",
        "            popup=f\"{row['예보일시']}\"\n",
        "        ).add_to(m)\n",
        "\n",
        "# 지도 저장\n",
        "m.save(\"wildfire_alerts_map.html\")\n",
        "m"
      ]
    }
  ]
}